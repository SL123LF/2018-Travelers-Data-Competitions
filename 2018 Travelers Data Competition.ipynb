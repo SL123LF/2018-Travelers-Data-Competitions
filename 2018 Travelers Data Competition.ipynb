{
 "cells": [
  {
   "cell_type": "code",
   "execution_count": null,
   "metadata": {
    "_cell_guid": "b1076dfc-b9ad-4769-8c92-a6c4dae69d19",
    "_uuid": "8f2839f25d086af736a60e9eeb907d3b93b6e0e5"
   },
   "outputs": [],
   "source": [
    "# This Python 3 environment comes with many helpful analytics libraries installed\n",
    "# It is defined by the kaggle/python docker image: https://github.com/kaggle/docker-python\n",
    "# For example, here's several helpful packages to load in \n",
    "\n",
    "import numpy as np # linear algebra\n",
    "import pandas as pd # data processing, CSV file I/O (e.g. pd.read_csv)\n",
    "\n",
    "# Input data files are available in the \"../input/\" directory.\n",
    "# For example, running this (by clicking run or pressing Shift+Enter) will list the files in the input directory\n",
    "\n",
    "import os\n",
    "print(os.listdir(\"../input\"))\n",
    "\n",
    "# Any results you write to the current directory are saved as output."
   ]
  },
  {
   "cell_type": "code",
   "execution_count": null,
   "metadata": {
    "_uuid": "e30add8818491fa23daac441d407f3635875ed73"
   },
   "outputs": [],
   "source": [
    "import matplotlib.pyplot as plt\n",
    "%matplotlib inline\n",
    "import seaborn as sns"
   ]
  },
  {
   "cell_type": "code",
   "execution_count": null,
   "metadata": {
    "_uuid": "908812351c34b52d1f622be6b8a1d0aacaf4f51f"
   },
   "outputs": [],
   "source": [
    "df_train=pd.read_csv(\"../input/uconn_comp_2018_train.csv\")\n",
    "df_test=pd.read_csv(\"../input/uconn_comp_2018_test.csv\")"
   ]
  },
  {
   "cell_type": "code",
   "execution_count": null,
   "metadata": {
    "_cell_guid": "79c7e3d0-c299-4dcb-8224-4455121ee9b0",
    "_uuid": "d629ff2d2480ee46fbb7e2d37f6b5fab8052498a"
   },
   "outputs": [],
   "source": [
    "from IPython.core.interactiveshell import InteractiveShell\n",
    "InteractiveShell.ast_node_interactivity = \"all\""
   ]
  },
  {
   "cell_type": "code",
   "execution_count": null,
   "metadata": {
    "_uuid": "229d49bafd02f73e83eb2deebb89fb22499c6cc4"
   },
   "outputs": [],
   "source": [
    "# adding safty_rating transformed variable, square of log of safty_rating\n",
    "# df_train['safty_rating_logsq'] = np.square(np.log(df_train.safty_rating))\n",
    "# df_test['safty_rating_logsq'] = np.square(np.log(df_test.safty_rating))"
   ]
  },
  {
   "cell_type": "code",
   "execution_count": null,
   "metadata": {
    "_uuid": "c630281befb21973c5d49b3d9b0b2424e8fb5594"
   },
   "outputs": [],
   "source": [
    "# adding safty rating buckets, classes based on Standard Deviation and Quartile Ranges\n",
    "# df_train['safty_rating_buckets'] = df_train.safty_rating\n",
    "# df_train['safty_rating_buckets'][df_train.safty_rating >= 105] = 'Very High'\n",
    "# df_train['safty_rating_buckets'][(df_train.safty_rating >= 90) & (df_train.safty_rating < 105)] = 'High'\n",
    "# df_train['safty_rating_buckets'][(df_train.safty_rating >= 76) & (df_train.safty_rating < 90)] = 'High Average'\n",
    "# df_train['safty_rating_buckets'][(df_train.safty_rating >= 65) & (df_train.safty_rating < 76)] = 'Low Average'\n",
    "# df_train['safty_rating_buckets'][(df_train.safty_rating >= 50) & (df_train.safty_rating < 65)] = 'Low'\n",
    "# df_train['safty_rating_buckets'][df_train.safty_rating < 50] = 'Very Low'\n",
    "\n",
    "# df_test['safty_rating_buckets'] = df_test.safty_rating\n",
    "# df_test['safty_rating_buckets'][df_test.safty_rating >= 105] = 'Very High'\n",
    "# df_test['safty_rating_buckets'][(df_test.safty_rating >= 90) & (df_test.safty_rating < 105)] = 'High'\n",
    "# df_test['safty_rating_buckets'][(df_test.safty_rating >= 76) & (df_test.safty_rating < 90)] = 'High Average'\n",
    "# df_test['safty_rating_buckets'][(df_test.safty_rating >= 65) & (df_test.safty_rating < 76)] = 'Low Average'\n",
    "# df_test['safty_rating_buckets'][(df_test.safty_rating >= 50) & (df_test.safty_rating < 65)] = 'Low'\n",
    "# df_test['safty_rating_buckets'][df_test.safty_rating < 50] = 'Very Low'\n",
    "# df_test['safty_rating_buckets']"
   ]
  },
  {
   "cell_type": "code",
   "execution_count": null,
   "metadata": {
    "_uuid": "0e3396635b33e9d3ce7c1e3079afa63b5d542a93"
   },
   "outputs": [],
   "source": [
    "# extracting claim_date month\n",
    "# df_train['claim_date_formatted'] = pd.to_datetime(df_train['claim_date'], format = \"%m/%d/%Y\")\n",
    "# df_train['claim_month'] = df_train['claim_date_formatted'].dt.month\n",
    "\n",
    "# extracting claim_date_delta\n",
    "# df_train['claim_date_delta'] = (df_train['claim_date_formatted'] - df_train['claim_date_formatted'].min())\n",
    "# df_train['claim_date_delta'] = df_train['claim_date_delta'].apply(lambda x: str(x).split()[0]).astype(int)\n",
    "# df_train.drop(['claim_date', 'claim_date_formatted'], axis = 1, inplace = True)"
   ]
  },
  {
   "cell_type": "code",
   "execution_count": null,
   "metadata": {
    "_uuid": "653ec5f703193c48196b3ebd99195b824f8fdac1"
   },
   "outputs": [],
   "source": [
    "# # extracting claim_date_delta\n",
    "# df_test['claim_date_formatted'] = pd.to_datetime(df_test['claim_date'], format = \"%m/%d/%Y\")\n",
    "# df_test['claim_month'] = df_test['claim_date_formatted'].dt.month\n",
    "\n",
    "# extracting claim_date_delta\n",
    "# df_test['claim_date_delta'] = (df_test['claim_date_formatted'] - df_test['claim_date_formatted'].min())\n",
    "# df_test['claim_date_delta'] = df_test['claim_date_delta'].apply(lambda x: str(x).split()[0]).astype(int)\n",
    "# df_test.drop(['claim_date', 'claim_date_formatted'], axis = 1, inplace = True)"
   ]
  },
  {
   "cell_type": "code",
   "execution_count": null,
   "metadata": {
    "_uuid": "eaebd101b7c1b1cc09288d5819629a1f76232b5e"
   },
   "outputs": [],
   "source": [
    "# adding income buckets, classes based on Standard Deviation and Quartile Ranges\n",
    "# df_train['claim_est_payout_buckets'] = df_train.claim_est_payout\n",
    "# df_train['claim_est_payout_buckets'][df_train.claim_est_payout >= 8500] = 'Very High'\n",
    "# df_train['claim_est_payout_buckets'][(df_train.claim_est_payout >= 6250) & (df_train.claim_est_payout < 8500)] = 'High'\n",
    "# df_train['claim_est_payout_buckets'][(df_train.claim_est_payout >= 4650) & (df_train.claim_est_payout < 6250)] = 'High Average'\n",
    "# df_train['claim_est_payout_buckets'][(df_train.claim_est_payout >= 3350) & (df_train.claim_est_payout < 4650)] = 'Low Average'\n",
    "# df_train['claim_est_payout_buckets'][(df_train.claim_est_payout >= 1100) & (df_train.claim_est_payout < 3350)] = 'Low'\n",
    "# df_train['claim_est_payout_buckets'][df_train.claim_est_payout < 1100] = 'Very Low'\n",
    "# df_train['claim_est_payout_buckets']\n",
    "\n",
    "# df_test['claim_est_payout_buckets'] = df_test.claim_est_payout\n",
    "# df_test['claim_est_payout_buckets'][df_test.claim_est_payout >= 8500] = 'Very High'\n",
    "# df_test['claim_est_payout_buckets'][(df_test.claim_est_payout >= 6250) & (df_test.claim_est_payout < 8500)] = 'High'\n",
    "# df_test['claim_est_payout_buckets'][(df_test.claim_est_payout >= 4650) & (df_test.claim_est_payout < 6250)] = 'High Average'\n",
    "# df_test['claim_est_payout_buckets'][(df_test.claim_est_payout >= 3350) & (df_test.claim_est_payout < 4650)] = 'Low Average'\n",
    "# df_test['claim_est_payout_buckets'][(df_test.claim_est_payout >= 1100) & (df_test.claim_est_payout < 3350)] = 'Low'\n",
    "# df_test['claim_est_payout_buckets'][df_test.claim_est_payout < 1100] = 'Very Low'\n",
    "# df_test['claim_est_payout_buckets']"
   ]
  },
  {
   "cell_type": "code",
   "execution_count": null,
   "metadata": {
    "_uuid": "01206fae4b89f12628fe8eb5f99c248233d06d54"
   },
   "outputs": [],
   "source": [
    "df_train.marital_status.fillna(df_train.marital_status.value_counts().index[0], inplace=True)\n",
    "df_test.marital_status.fillna(df_test.marital_status.value_counts().index[0], inplace=True)"
   ]
  },
  {
   "cell_type": "code",
   "execution_count": null,
   "metadata": {
    "_uuid": "1963f3f6ad62f3547ab6445377f34fe3b4e98ea2"
   },
   "outputs": [],
   "source": [
    "# df_train.dropna(inplace=True)\n",
    "# unclear_cols=df_train[['claim_number','zip_code','fraud']]\n",
    "# df_train=df_train[df_train[\"claim_number\"]!=-1]\n",
    "# df_train=df_train[df_train[\"zip_code\"]!=0]\n",
    "# df_train=df_train[df_train[\"annual_income\"]!=-1]\n",
    "# df_train=df_train[df_train[\"fraud\"]!=-1]"
   ]
  },
  {
   "cell_type": "code",
   "execution_count": null,
   "metadata": {
    "_uuid": "330e8adf7183770ca3d574dbdf05f0d111582c53"
   },
   "outputs": [],
   "source": [
    "df_train = df_train[~(df_train.fraud == -1)]"
   ]
  },
  {
   "cell_type": "code",
   "execution_count": null,
   "metadata": {
    "_uuid": "076bf9b4802c8fec963d2a5c6d1b0da2fe6743b3"
   },
   "outputs": [],
   "source": [
    "df_train = df_train.apply(lambda x: x.fillna(x.value_counts().index[0]))\n",
    "df_test = df_test.apply(lambda x: x.fillna(x.value_counts().index[0]))"
   ]
  },
  {
   "cell_type": "code",
   "execution_count": null,
   "metadata": {
    "_uuid": "80ae1015a1f166f533ea343dab12e6ec4a051bbe"
   },
   "outputs": [],
   "source": [
    "# Amount Claim per unit Weight of Vehicle\n",
    "df_train['f2_income_claims'] = np.round(df_train.annual_income / 1000)*10 + df_train.past_num_of_claims\n",
    "df_test['f2_income_claims'] = np.round(df_test.annual_income / 1000)*10 + df_test.past_num_of_claims\n",
    "\n",
    "df_train['f2_income_claims'].describe()\n",
    "len(set(df_train['f2_income_claims']))"
   ]
  },
  {
   "cell_type": "code",
   "execution_count": null,
   "metadata": {
    "_uuid": "adb6235d4e846776c74812698a8c1f0ba503ac1c"
   },
   "outputs": [],
   "source": [
    "from sklearn.model_selection import train_test_split\n",
    "from sklearn.model_selection import GridSearchCV\n",
    "from sklearn.linear_model import LogisticRegression\n",
    "from sklearn.preprocessing import LabelEncoder\n",
    "from sklearn.preprocessing import Normalizer\n",
    "from sklearn.preprocessing import MinMaxScaler\n",
    "from sklearn.metrics import roc_auc_score\n",
    "from sklearn.tree import DecisionTreeClassifier\n",
    "from sklearn.svm import SVC\n",
    "train_total_x = df_train.drop('fraud', axis = 1)\n",
    "train_total_y = df_train['fraud']\n",
    "test_x = df_test"
   ]
  },
  {
   "cell_type": "code",
   "execution_count": null,
   "metadata": {
    "_uuid": "9c9f2187738583d1cf1cbad2fc1580fd223c2deb"
   },
   "outputs": [],
   "source": [
    "df_train = df_train[~(df_train.fraud == -1)]"
   ]
  },
  {
   "cell_type": "code",
   "execution_count": null,
   "metadata": {
    "_uuid": "4c584710c54ba622003573c07aeaef0f561d0233"
   },
   "outputs": [],
   "source": [
    "le = LabelEncoder()\n",
    "obj_columns = [col for col in train_total_x.select_dtypes(include = ['object'])]"
   ]
  },
  {
   "cell_type": "code",
   "execution_count": null,
   "metadata": {
    "_uuid": "1679cd1dc1f3fe0907ab81926237c78d1bd36357"
   },
   "outputs": [],
   "source": [
    "for col in obj_columns:\n",
    "    train_total_x[col] = le.fit_transform(train_total_x[col])\n",
    "    test_x[col] = le.transform(df_test[col])"
   ]
  },
  {
   "cell_type": "code",
   "execution_count": null,
   "metadata": {
    "_uuid": "3a5165b9c2b6a0bf1231ffe377ac259cf2d767c2"
   },
   "outputs": [],
   "source": [
    "# Amount Claim per unit Weight of Vehicle\n",
    "train_total_x['f3_accidents_claims'] = (train_total_x.accident_site * 10) + (train_total_x.past_num_of_claims)\n",
    "test_x['f3_accidents_claims'] = (test_x.accident_site * 10) + (test_x.past_num_of_claims)\n",
    "\n",
    "train_total_x['f3_accidents_claims'].describe()\n",
    "len(set(train_total_x['f3_accidents_claims']))"
   ]
  },
  {
   "cell_type": "markdown",
   "metadata": {
    "_uuid": "f4ebffd66583276057a140c58e1d2c7f4a019b85"
   },
   "source": [
    "train_total_x['f5_liab_price'] = np.round((train_total_x.liab_prct * np.round(train_total_x.vehicle_price,-2)), -4)\n",
    "test_x['f5_liab_price'] = np.round((test_x.liab_prct * np.round(test_x.vehicle_price,-2)), -4)\n",
    "\n",
    "train_total_x['f5_liab_price'].describe()\n",
    "len(set(train_total_x['f5_liab_price']))"
   ]
  },
  {
   "cell_type": "markdown",
   "metadata": {
    "_uuid": "5f4b682ab5c04624a34dd849f3aca6ec44798668"
   },
   "source": [
    "train_total_x['f6_liab_price_safty'] = np.round((train_total_x.liab_prct * np.round(train_total_x.vehicle_price,-2)), -4) / train_total_x.safty_rating\n",
    "test_x['f6_liab_price_safty'] = np.round((test_x.liab_prct * np.round(test_x.vehicle_price,-2)), -4) / test_x.safty_rating\n",
    "\n",
    "train_total_x['f6_liab_price_safty'].describe()\n",
    "len(set(train_total_x['f6_liab_price_safty']))"
   ]
  },
  {
   "cell_type": "code",
   "execution_count": null,
   "metadata": {
    "_uuid": "04e9a06ac0ac6f0c8843e3d7cfd00a5fb7621825"
   },
   "outputs": [],
   "source": [
    "train_total_x['f8_living_claims'] = (train_total_x.living_status + 1) * (train_total_x.past_num_of_claims + 1)\n",
    "test_x['f8_living_claims'] = (test_x.living_status + 1) * (test_x.past_num_of_claims + 1)\n",
    "\n",
    "train_total_x['f8_living_claims'].describe()\n",
    "len(set(train_total_x['f8_living_claims']))"
   ]
  },
  {
   "cell_type": "code",
   "execution_count": null,
   "metadata": {
    "_uuid": "21d50112b980b48e7eedee700802d077393c944f"
   },
   "outputs": [],
   "source": [
    "train_total_x['f10_interaction_f2_f3'] = np.sqrt((train_total_x.f2_income_claims + 1) * (train_total_x.f3_accidents_claims + 1))\n",
    "test_x['f10_interaction_f2_f3'] = np.sqrt((test_x.f2_income_claims + 1) * (test_x.f3_accidents_claims + 1))\n",
    "\n",
    "train_total_x['f10_interaction_f2_f3'].describe()\n",
    "len(set(train_total_x['f10_interaction_f2_f3']))"
   ]
  },
  {
   "cell_type": "code",
   "execution_count": null,
   "metadata": {
    "_uuid": "1a0e5d80e95fa24774e2c309afd973f14953c745"
   },
   "outputs": [],
   "source": [
    "train_total_x['f12_witness_f5'] = (train_total_x.witness_present_ind + 1) * np.log(train_total_x.f5_liab_price + 1)\n",
    "test_x['f12_witness_f5'] = (test_x.witness_present_ind + 1) * np.log(test_x.f5_liab_price + 1)\n",
    "\n",
    "train_total_x['f12_witness_f5'].describe()\n",
    "len(set(train_total_x['f12_witness_f5']))"
   ]
  },
  {
   "cell_type": "code",
   "execution_count": null,
   "metadata": {
    "_uuid": "fc4b85e00c0b5ed9aa435a49952cf6250928e5c4"
   },
   "outputs": [],
   "source": [
    "train_total_x['f13_matital_f2'] = np.round((train_total_x.marital_status + 1) * np.sqrt(train_total_x.f2_income_claims),1)\n",
    "test_x['f13_matital_f2'] = np.round((test_x.marital_status + 1) * np.sqrt(test_x.f2_income_claims),1)\n",
    "\n",
    "train_total_x['f12_witness_f5'].describe()\n",
    "len(set(train_total_x['f12_witness_f5']))"
   ]
  },
  {
   "cell_type": "code",
   "execution_count": null,
   "metadata": {
    "_uuid": "c49d754a3d7a53fd4277361dab54e79c550c9a85"
   },
   "outputs": [],
   "source": []
  },
  {
   "cell_type": "code",
   "execution_count": null,
   "metadata": {
    "_uuid": "d5b847a26208555c7c2574e492753663419b597c",
    "scrolled": true
   },
   "outputs": [],
   "source": [
    "# scaler = MinMaxScaler()\n",
    "# train_total_x = scaler.fit_transform(train_total_x)\n",
    "# test_x = scaler.transform(test_x)"
   ]
  },
  {
   "cell_type": "code",
   "execution_count": null,
   "metadata": {
    "_uuid": "97cc65ea93ec5a371e0a4011ba3eab3b9ab22164"
   },
   "outputs": [],
   "source": [
    "train_x, devl_x, train_y, devl_y = train_test_split(train_total_x, train_total_y, test_size = 0.35, random_state = 3)"
   ]
  },
  {
   "cell_type": "code",
   "execution_count": null,
   "metadata": {
    "_uuid": "19768f11b489e6d2fac4ea85ad871febe04b06dc"
   },
   "outputs": [],
   "source": [
    "# def adaboost(train_x, devl_x, train_y):\n",
    "#     model = AdaBoostClassifier(n_estimators=100, random_state=42)\n",
    "#     model.fit(train_x,train_y)\n",
    "#     y_pred = model.predict(devl_x) \n",
    "#     return y_pred"
   ]
  },
  {
   "cell_type": "code",
   "execution_count": null,
   "metadata": {
    "_uuid": "b298fb4697d29820c091cbb8d94b737fd9183ac7"
   },
   "outputs": [],
   "source": [
    "# print(\"Before OverSampling, counts of label '1': {}\".format(sum(train_y==1)))\n",
    "# print(\"Before OverSampling, counts of label '0': {} \\n\".format(sum(train_y==0)))"
   ]
  },
  {
   "cell_type": "code",
   "execution_count": null,
   "metadata": {
    "_uuid": "c028b34e15a9f066cc29f7110a1876bd8ba16fe7"
   },
   "outputs": [],
   "source": [
    "# from imblearn.over_sampling import SMOTE\n",
    "# import numpy as np\n",
    "# sm = SMOTE(random_state=2)\n",
    "# train_x_res, train_y_res = sm.fit_sample(train_x, train_y.ravel())"
   ]
  },
  {
   "cell_type": "code",
   "execution_count": null,
   "metadata": {
    "_uuid": "7d1b9c420db949a9df59289eb978143c7cb95ccd"
   },
   "outputs": [],
   "source": [
    "# print('After OverSampling, the shape of train_X: {}'.format(train_x_res.shape))\n",
    "# print('After OverSampling, the shape of train_y: {} \\n'.format(train_y_res.shape))\n",
    "# print(\"After OverSampling, counts of label '1': {}\".format(sum(train_y_res==1)))\n",
    "# print(\"After OverSampling, counts of label '0': {}\".format(sum(train_y_res==0)))"
   ]
  },
  {
   "cell_type": "code",
   "execution_count": null,
   "metadata": {
    "_uuid": "5aa4b18719b7bf6dbc01832e3345405b0e1bf9dc"
   },
   "outputs": [],
   "source": [
    "# grid_values = {'C' : [0.0001, 0.001,0.01, 1, 10, 100, 1000, 3000, 10000, 30000, 100000, 300000]}\n",
    "# log_clf = LogisticRegression()\n",
    "# log_grid = GridSearchCV(log_clf, param_grid = grid_values, scoring = 'roc_auc')\n",
    "# log_grid.fit(train_x, train_y)\n",
    "# print('Accurary of Logistic Regression Classifier on train_x: {:.3f}' .format(log_grid.score(train_x, train_y)))\n",
    "# print('Accurary of Logistic Regression Classifier on devl_x: {:.3f}' .format(log_grid.score(devl_x, devl_y)))\n",
    "\n",
    "# print('Grid best parameter (max. accuary): ', log_grid.best_params_)\n",
    "# print('Grid best score (accuary):', log_grid.best_score_)"
   ]
  },
  {
   "cell_type": "code",
   "execution_count": null,
   "metadata": {
    "_uuid": "38cd2b7a78f5731b9b18da56efd8054c8e46b95c"
   },
   "outputs": [],
   "source": [
    "# from sklearn.ensemble import RandomForestClassifier\n",
    "# param_test1 = {}\n",
    "# gsearch1 = GridSearchCV(estimator = RandomForestClassifier(n_estimators=100,oob_score = True ,max_features=\"sqrt\"\n",
    "#                                                            ,min_samples_split=2), \n",
    "#                         param_grid = param_test1, scoring='roc_auc',cv=5)\n",
    "# gsearch1.fit(train_x, train_y)\n",
    "# print('Accurary of Random Forest Classifier on train_x: {:.3f}' .format(gsearch1.score(train_x, train_y)))\n",
    "# print('Accurary of Random Forest Classifier on devl_x: {:.3f}' .format(gsearch1.score(devl_x, devl_y)))\n",
    "\n",
    "# print('Grid best parameter (max. accuary): ', gsearch1.best_params_)\n",
    "# print('Grid best score (accuary):', gsearch1.best_score_)"
   ]
  },
  {
   "cell_type": "code",
   "execution_count": null,
   "metadata": {
    "_uuid": "f7b4f576042b2dad26fe1dfd7fbb6f060b522647"
   },
   "outputs": [],
   "source": [
    "# from sklearn.ensemble import AdaBoostClassifier\n",
    "# param_test={\n",
    "#             \"learning_rate\":[0.1,0.2],\n",
    "#             }\n",
    "# gsearch=GridSearchCV(estimator=AdaBoostClassifier(DecisionTreeClassifier(max_depth=1),n_estimators=500,algorithm='SAMME'),param_grid = param_test, scoring='roc_auc',cv=5)\n",
    "# gsearch.fit(train_x, train_y)\n",
    "# print('Accurary of Xgboost Classifier on train_x: {:.3f}' .format(gsearch.score(train_x, train_y)))\n",
    "# print('Accurary of Xgboost Classifier on devl_x: {:.3f}' .format(gsearch.score(devl_x, devl_y)))\n",
    "\n",
    "# print('Grid best parameter (max. accuary): ', gsearch.best_params_)\n",
    "# print('Grid best score (accuary):', gsearch.best_score_)"
   ]
  },
  {
   "cell_type": "code",
   "execution_count": null,
   "metadata": {
    "_uuid": "6c4386c87844042b7b744a593acef5f4c9b2703a",
    "scrolled": true
   },
   "outputs": [],
   "source": [
    "from xgboost import XGBClassifier\n",
    "param_test2 = {'learning_rate':[0.1]\n",
    "}\n",
    "gsearch2 = GridSearchCV(estimator = XGBClassifier(gamma=4,max_depth=2,min_child_weight=5,n_estimators=1000),\n",
    "                        param_grid = param_test2, scoring='roc_auc',cv=10)\n",
    "gsearch2.fit(train_x, train_y)\n",
    "print('Accurary of Xgboost Classifier on train_x: {:.3f}' .format(gsearch2.score(train_x, train_y)))\n",
    "print('Accurary of Xgboost Classifier on devl_x: {:.3f}' .format(gsearch2.score(devl_x, devl_y)))\n",
    "\n",
    "print('Grid best parameter (max. accuary): ', gsearch2.best_params_)\n",
    "print('Grid best score (accuary):', gsearch2.best_score_)"
   ]
  },
  {
   "cell_type": "markdown",
   "metadata": {
    "_uuid": "b6b3a4259d908d5353a92d2c22513c31f84f5149"
   },
   "source": [
    "'learning_rate':[0.05,0.1],\n",
    "              'gamma':[3,4],\n",
    "              'max_depth':[1,3],\n",
    "              'min_child_weight':[3,5],\n",
    "              'n_estimators':[500,1000]"
   ]
  },
  {
   "cell_type": "code",
   "execution_count": null,
   "metadata": {
    "_uuid": "a69a50a8a842aa71570ad49480c6396315e7c232"
   },
   "outputs": [],
   "source": [
    "# from xgboost import XGBClassifier\n",
    "# param_test2 = {'scale_pos_weight': [5.2915, 1]}\n",
    "# gsearch2 = GridSearchCV(estimator = XGBClassifier(eta=0.1,n_estimators=1000,gamma=4,max_depth=2,min_child_weight=5,max_delta_step=1),\n",
    "#                         param_grid = param_test2, scoring='roc_auc',cv=5)\n",
    "# gsearch2.fit(train_x, train_y)\n",
    "# print('Accurary of Xgboost Classifier on train_x: {:.3f}' .format(gsearch2.score(train_x, train_y)))\n",
    "# print('Accurary of Xgboost Classifier on devl_x: {:.3f}' .format(gsearch2.score(devl_x, devl_y)))\n",
    "\n",
    "# print('Grid best parameter (max. accuary): ', gsearch2.best_params_)\n",
    "# print('Grid best score (accuary):', gsearch2.best_score_)"
   ]
  },
  {
   "cell_type": "code",
   "execution_count": null,
   "metadata": {
    "_uuid": "30e1bfad5ba225fd1511a89bc2ea9c3a21101530"
   },
   "outputs": [],
   "source": [
    "# from sklearn.metrics import f1_score,confusion_matrix\n",
    "# cm_2 = confusion_matrix(devl_y,gsearch2.predict(devl_x))\n",
    "# sns.heatmap(cm_2,annot=True,fmt=\"d\")"
   ]
  },
  {
   "cell_type": "code",
   "execution_count": null,
   "metadata": {
    "_uuid": "e4650979ae413c5f78adfd804e16ffa7fdbfe3ad"
   },
   "outputs": [],
   "source": [
    "from matplotlib import pyplot\n",
    "from xgboost import plot_importance\n",
    "model=XGBClassifier(n_estimators=1000,gamma=4,max_depth=2,min_child_weight=5,eta=0.2)\n",
    "model.fit(train_x,train_y)\n",
    "ax=plot_importance(model)\n",
    "fig = ax.figure\n",
    "fig.set_size_inches(10, 10)"
   ]
  },
  {
   "cell_type": "code",
   "execution_count": null,
   "metadata": {
    "_uuid": "1debfcef652c722021b02a74e6d4365cb3f0abbf"
   },
   "outputs": [],
   "source": [
    "# from numpy import loadtxt\n",
    "# from numpy import sort\n",
    "# from xgboost import XGBClassifier\n",
    "# from sklearn.model_selection import train_test_split\n",
    "# from sklearn.metrics import accuracy_score\n",
    "# from sklearn.feature_selection import SelectFromModel\n",
    "# thresholds = sort(model.feature_importances_)\n",
    "# for thresh in thresholds:\n",
    "# \t# select features using threshold\n",
    "# \tselection = SelectFromModel(model, threshold=thresh, prefit=True)\n",
    "# \tselect_X_train = selection.transform(train_x_res)\n",
    "# \t# train model\n",
    "# \tselection_model = XGBClassifier(n_estimators=1000,gamma=4,max_depth=2,min_child_weight=5,eta=0.2)\n",
    "# \tselection_model.fit(select_X_train, train_y_res)\n",
    "# \t# eval model\n",
    "# \tselect_X_test = selection.transform(devl_x)\n",
    "# \ty_pred = selection_model.predict(select_X_test)\n",
    "# \tpredictions = [round(value) for value in y_pred]\n",
    "# \taccuracy = roc_auc_score(devl_y, predictions)\n",
    "# \tprint(\"Thresh=%.3f, n=%d, Accuracy: %.2f%%\" % (thresh, select_X_train.shape[1], accuracy*100.0))"
   ]
  },
  {
   "cell_type": "code",
   "execution_count": null,
   "metadata": {
    "_uuid": "8bdaac7a669d1e7fc670e9cc8c229becca00911d"
   },
   "outputs": [],
   "source": [
    "# thresholds = sort(model.feature_importances_)"
   ]
  },
  {
   "cell_type": "code",
   "execution_count": null,
   "metadata": {
    "_uuid": "f11e6a79f322011bf918a27fa10d06aa5b91d342"
   },
   "outputs": [],
   "source": [
    "# thresholds"
   ]
  },
  {
   "cell_type": "code",
   "execution_count": null,
   "metadata": {
    "_uuid": "e8089defda59619f6b27b6fcb3b4f4359cc7994b"
   },
   "outputs": [],
   "source": [
    "# reg_alpha=0.01,colsample_bytree=0.75,subsample=0.6,n_estimators=1000,max_depth=3,min_child_weight=12,gamma=11,scale_pos_weight=1,seed=27"
   ]
  },
  {
   "cell_type": "code",
   "execution_count": null,
   "metadata": {
    "_uuid": "726cb878e33480a97b833944452c447221a0ba3b"
   },
   "outputs": [],
   "source": [
    "# 1:0.7278452227723489\n",
    "# 2:0.7280327561286474\n",
    "# 3:0.729327989762149\n",
    "# 3:0.7297716168835868"
   ]
  },
  {
   "cell_type": "code",
   "execution_count": null,
   "metadata": {
    "_uuid": "aaa89a072d0d3e0147eb39a2ee72121381ed91d8"
   },
   "outputs": [],
   "source": [
    "# from sklearn.naive_bayes import BernoulliNB\n",
    "# param_test3=[0.0000000001,0.0000000002,0.0000000002]\n",
    "# model = BernoulliNB()\n",
    "# model.fit(train_x, train_y)\n",
    "# probs = model.predict_proba(devl_x)\n",
    "# probs = probs[:, 1]\n",
    "# auc = roc_auc_score(devl_y, probs)\n",
    "# print('AUC: %.3f' % auc)\n",
    "# probs"
   ]
  },
  {
   "cell_type": "code",
   "execution_count": null,
   "metadata": {
    "_uuid": "b1852afef7a6cb13fca939d9d4140de6ded435f9"
   },
   "outputs": [],
   "source": [
    "# test=XGBClassifier(eta=0.1,gamma=2,n_estimators=1000,max_depth=5,min_child_weight=1)\n",
    "# test1=test.fit(train_x, train_y)\n",
    "# score=roc_auc_score(devl_y,test1.predict(devl_x))\n",
    "# print('Accurary of Xgboost Classifier on devl_x: {:.3f}' .format(score))"
   ]
  },
  {
   "cell_type": "code",
   "execution_count": null,
   "metadata": {
    "_uuid": "bab9996d6b122df5ea80a0b46fa8436a0ee25d7f"
   },
   "outputs": [],
   "source": [
    "# from sklearn.svm import SVC\n",
    "# param_test3={'C' : [0.0001, 0.001,0.01, 1, 10, 100, 1000, 3000, 10000, 30000, 100000, 300000]}\n",
    "# svc_clf=SVC(kernel='poly', degree=8)\n",
    "# SVC_GRID=GridSearchCV(estimator=svc_clf,param_grid = param_test3, scoring = 'roc_auc')\n",
    "# SVC_GRID.fit(train_x, train_y)\n",
    "# print('Accurary of SVC Classifier on train_x: {:.3f}' .format(SVC_GRID.score(train_x, train_y)))\n",
    "# print('Accurary of SVC Classifier on devl_x: {:.3f}' .format(SVC_GRID.score(devl_x, devl_y)))\n",
    "\n",
    "# print('Grid best parameter (max. accuary): ', SVC_GRID.best_params_)\n",
    "# print('Grid best score (accuary):', SVC_GRID.best_score_)"
   ]
  },
  {
   "cell_type": "code",
   "execution_count": null,
   "metadata": {
    "_uuid": "09b39b1347e63ba95308a658f8b08271f861f01b",
    "scrolled": false
   },
   "outputs": [],
   "source": [
    "# train_total_x"
   ]
  },
  {
   "cell_type": "code",
   "execution_count": null,
   "metadata": {
    "_uuid": "0333626c05fbd87e7ec1af87f5f2b7aa308c9ec0"
   },
   "outputs": [],
   "source": [
    " xgb_predictions = gsearch2.predict_proba(test_x)[:,1]"
   ]
  },
  {
   "cell_type": "code",
   "execution_count": null,
   "metadata": {
    "_uuid": "e32c4ace0a81a902e9bf90738cb5ecb720d2d8e0"
   },
   "outputs": [],
   "source": [
    " my_submission = pd.DataFrame({'claim_number': df_test.claim_number, 'fraud': xgb_predictions})\n",
    " my_submission.to_csv('submission.csv', index=False)"
   ]
  },
  {
   "cell_type": "code",
   "execution_count": null,
   "metadata": {
    "_uuid": "17c3d3d791eeb25b418ff1bb6b9787b3118972b2"
   },
   "outputs": [],
   "source": [
    " my_submission.head()"
   ]
  }
 ],
 "metadata": {
  "kernelspec": {
   "display_name": "Python 3",
   "language": "python",
   "name": "python3"
  },
  "language_info": {
   "codemirror_mode": {
    "name": "ipython",
    "version": 3
   },
   "file_extension": ".py",
   "mimetype": "text/x-python",
   "name": "python",
   "nbconvert_exporter": "python",
   "pygments_lexer": "ipython3",
   "version": "3.6.4"
  }
 },
 "nbformat": 4,
 "nbformat_minor": 1
}
